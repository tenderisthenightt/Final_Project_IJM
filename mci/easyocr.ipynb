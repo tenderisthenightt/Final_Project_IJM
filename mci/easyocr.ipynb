{
 "cells": [
  {
   "cell_type": "code",
   "execution_count": 1,
   "metadata": {},
   "outputs": [
    {
     "name": "stderr",
     "output_type": "stream",
     "text": [
      "CUDA not available - defaulting to CPU. Note: This module is much faster with a GPU.\n",
      "Downloading detection model, please wait. This may take several minutes depending upon your network connection.\n"
     ]
    },
    {
     "name": "stdout",
     "output_type": "stream",
     "text": [
      "Progress: |██████████████████████████████████████████████████| 100.0% Complete"
     ]
    },
    {
     "name": "stderr",
     "output_type": "stream",
     "text": [
      "Downloading recognition model, please wait. This may take several minutes depending upon your network connection.\n"
     ]
    },
    {
     "name": "stdout",
     "output_type": "stream",
     "text": [
      "Progress: |██████████████████████████████████████████████████| 100.1% Complete1 (1, 0)\n"
     ]
    }
   ],
   "source": [
    "import easyocr\n",
    "def get_score(level) :\n",
    "        if level == 1:\n",
    "            score = 0\n",
    "        elif level == 2:\n",
    "            score = 1\n",
    "        elif 3 <= level <= 4:\n",
    "            score = 2\n",
    "        elif level == 5:\n",
    "            score = 3\n",
    "        else:\n",
    "            score = 4\n",
    "            \n",
    "        return level, score\n",
    "\n",
    "reader = easyocr.Reader(['ko', 'en'])\n",
    "file_name = 'static/5/img/1Z5xG9KA2BWcBF71Brcx7P2mqC3imjDn.png'\n",
    "with open(file_name,'rb') as pf:\n",
    "        img = pf.read()\n",
    "        result = reader.readtext(img)\n",
    "        for res in result:\n",
    "            if res[1][0:10] == 'Your level':    \n",
    "                level = res[1][-1]\n",
    "                result = get_score(int(level))\n",
    "                print(level, result)"
   ]
  },
  {
   "cell_type": "code",
   "execution_count": null,
   "metadata": {},
   "outputs": [],
   "source": []
  }
 ],
 "metadata": {
  "kernelspec": {
   "display_name": "Python 3",
   "language": "python",
   "name": "python3"
  },
  "language_info": {
   "codemirror_mode": {
    "name": "ipython",
    "version": 3
   },
   "file_extension": ".py",
   "mimetype": "text/x-python",
   "name": "python",
   "nbconvert_exporter": "python",
   "pygments_lexer": "ipython3",
   "version": "3.9.16 (main, Jan 11 2023, 16:16:36) [MSC v.1916 64 bit (AMD64)]"
  },
  "orig_nbformat": 4,
  "vscode": {
   "interpreter": {
    "hash": "e4cce46d6be9934fbd27f9ca0432556941ea5bdf741d4f4d64c6cd7f8dfa8fba"
   }
  }
 },
 "nbformat": 4,
 "nbformat_minor": 2
}
